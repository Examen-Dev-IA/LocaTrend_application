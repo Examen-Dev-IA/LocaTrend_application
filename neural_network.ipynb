{
 "cells": [
  {
   "cell_type": "code",
   "execution_count": 136,
   "metadata": {},
   "outputs": [],
   "source": [
    "import pandas as pd\n",
    "import matplotlib.pyplot as plt\n",
    "from sklearn.metrics import mean_squared_error\n",
    "from sklearn.neural_network import MLPRegressor\n",
    "from sklearn.model_selection import train_test_split"
   ]
  },
  {
   "cell_type": "code",
   "execution_count": 137,
   "metadata": {},
   "outputs": [],
   "source": [
    "# Chargez le fichier CSV dans un DataFrame Pandas\n",
    "df = pd.read_csv('./src/datasets/csv/valeurs_foncieres_affichage.csv', encoding='utf-8', dtype={'code_commune': str, 'code_departement': str})\n",
    "# Supprimer la colonne inutile \"Unnamed: 0\"\n",
    "df = df.drop(columns=['Unnamed: 0'])"
   ]
  },
  {
   "cell_type": "code",
   "execution_count": 138,
   "metadata": {},
   "outputs": [],
   "source": [
    "# Convertir la variable 'type_local' en variables indicatrices\n",
    "df = pd.get_dummies(df, columns=['type_local'])"
   ]
  },
  {
   "cell_type": "code",
   "execution_count": 139,
   "metadata": {},
   "outputs": [],
   "source": [
    "# Convertir les variables 'code_commune' et 'code_departement' en catégories ordinales\n",
    "df['code_commune'] = df['code_commune'].astype('category')\n",
    "df['code_departement'] = df['code_departement'].astype('category')\n",
    "df['code_commune'] = df['code_commune'].cat.codes\n",
    "df['code_departement'] = df['code_departement'].cat.codes\n"
   ]
  },
  {
   "cell_type": "code",
   "execution_count": 140,
   "metadata": {},
   "outputs": [
    {
     "data": {
      "text/html": [
       "<div>\n",
       "<style scoped>\n",
       "    .dataframe tbody tr th:only-of-type {\n",
       "        vertical-align: middle;\n",
       "    }\n",
       "\n",
       "    .dataframe tbody tr th {\n",
       "        vertical-align: top;\n",
       "    }\n",
       "\n",
       "    .dataframe thead th {\n",
       "        text-align: right;\n",
       "    }\n",
       "</style>\n",
       "<table border=\"1\" class=\"dataframe\">\n",
       "  <thead>\n",
       "    <tr style=\"text-align: right;\">\n",
       "      <th></th>\n",
       "      <th>date_mutation</th>\n",
       "      <th>valeur_fonciere</th>\n",
       "      <th>code_commune</th>\n",
       "      <th>code_departement</th>\n",
       "      <th>surface_reelle_bati</th>\n",
       "      <th>nombre_pieces_principales</th>\n",
       "      <th>surface_terrain</th>\n",
       "      <th>type_local_Appartement</th>\n",
       "      <th>type_local_Maison</th>\n",
       "    </tr>\n",
       "  </thead>\n",
       "  <tbody>\n",
       "    <tr>\n",
       "      <th>0</th>\n",
       "      <td>2018-07-02</td>\n",
       "      <td>360000.0</td>\n",
       "      <td>1593</td>\n",
       "      <td>0</td>\n",
       "      <td>170.0</td>\n",
       "      <td>7.0</td>\n",
       "      <td>3789.0</td>\n",
       "      <td>False</td>\n",
       "      <td>True</td>\n",
       "    </tr>\n",
       "    <tr>\n",
       "      <th>1</th>\n",
       "      <td>2018-07-02</td>\n",
       "      <td>360000.0</td>\n",
       "      <td>1593</td>\n",
       "      <td>0</td>\n",
       "      <td>170.0</td>\n",
       "      <td>7.0</td>\n",
       "      <td>500.0</td>\n",
       "      <td>False</td>\n",
       "      <td>True</td>\n",
       "    </tr>\n",
       "    <tr>\n",
       "      <th>2</th>\n",
       "      <td>2018-07-02</td>\n",
       "      <td>360000.0</td>\n",
       "      <td>1593</td>\n",
       "      <td>0</td>\n",
       "      <td>170.0</td>\n",
       "      <td>7.0</td>\n",
       "      <td>1500.0</td>\n",
       "      <td>False</td>\n",
       "      <td>True</td>\n",
       "    </tr>\n",
       "    <tr>\n",
       "      <th>3</th>\n",
       "      <td>2018-07-05</td>\n",
       "      <td>190000.0</td>\n",
       "      <td>1436</td>\n",
       "      <td>0</td>\n",
       "      <td>90.0</td>\n",
       "      <td>4.0</td>\n",
       "      <td>903.0</td>\n",
       "      <td>False</td>\n",
       "      <td>True</td>\n",
       "    </tr>\n",
       "    <tr>\n",
       "      <th>4</th>\n",
       "      <td>2018-07-04</td>\n",
       "      <td>220000.0</td>\n",
       "      <td>1524</td>\n",
       "      <td>0</td>\n",
       "      <td>99.0</td>\n",
       "      <td>3.0</td>\n",
       "      <td>818.0</td>\n",
       "      <td>False</td>\n",
       "      <td>True</td>\n",
       "    </tr>\n",
       "  </tbody>\n",
       "</table>\n",
       "</div>"
      ],
      "text/plain": [
       "  date_mutation  valeur_fonciere  code_commune  code_departement  \\\n",
       "0    2018-07-02         360000.0          1593                 0   \n",
       "1    2018-07-02         360000.0          1593                 0   \n",
       "2    2018-07-02         360000.0          1593                 0   \n",
       "3    2018-07-05         190000.0          1436                 0   \n",
       "4    2018-07-04         220000.0          1524                 0   \n",
       "\n",
       "   surface_reelle_bati  nombre_pieces_principales  surface_terrain  \\\n",
       "0                170.0                        7.0           3789.0   \n",
       "1                170.0                        7.0            500.0   \n",
       "2                170.0                        7.0           1500.0   \n",
       "3                 90.0                        4.0            903.0   \n",
       "4                 99.0                        3.0            818.0   \n",
       "\n",
       "   type_local_Appartement  type_local_Maison  \n",
       "0                   False               True  \n",
       "1                   False               True  \n",
       "2                   False               True  \n",
       "3                   False               True  \n",
       "4                   False               True  "
      ]
     },
     "execution_count": 140,
     "metadata": {},
     "output_type": "execute_result"
    }
   ],
   "source": [
    "df.head()"
   ]
  },
  {
   "cell_type": "code",
   "execution_count": 141,
   "metadata": {},
   "outputs": [],
   "source": [
    "# Convertir la colonne date_mutation en type datetime\n",
    "df['date_mutation'] = pd.to_datetime(df['date_mutation'])"
   ]
  },
  {
   "cell_type": "code",
   "execution_count": 142,
   "metadata": {},
   "outputs": [],
   "source": [
    "# Créer une nouvelle colonne pour le mois et l'année uniquement\n",
    "df['mois_annee'] = df['date_mutation'].dt.to_period('M')\n",
    "\n",
    "# Convertir la colonne mois_annee en chaîne de caractères (str)\n",
    "df['mois_annee_str'] = df['mois_annee'].astype(str)\n",
    "\n",
    "# Supprimer les colonnes inutiles\n",
    "df = df.drop(columns=['date_mutation', 'mois_annee', 'mois_annee_str'])"
   ]
  },
  {
   "cell_type": "code",
   "execution_count": 143,
   "metadata": {},
   "outputs": [
    {
     "data": {
      "text/html": [
       "<div>\n",
       "<style scoped>\n",
       "    .dataframe tbody tr th:only-of-type {\n",
       "        vertical-align: middle;\n",
       "    }\n",
       "\n",
       "    .dataframe tbody tr th {\n",
       "        vertical-align: top;\n",
       "    }\n",
       "\n",
       "    .dataframe thead th {\n",
       "        text-align: right;\n",
       "    }\n",
       "</style>\n",
       "<table border=\"1\" class=\"dataframe\">\n",
       "  <thead>\n",
       "    <tr style=\"text-align: right;\">\n",
       "      <th></th>\n",
       "      <th>valeur_fonciere</th>\n",
       "      <th>code_commune</th>\n",
       "      <th>code_departement</th>\n",
       "      <th>surface_reelle_bati</th>\n",
       "      <th>nombre_pieces_principales</th>\n",
       "      <th>surface_terrain</th>\n",
       "      <th>type_local_Appartement</th>\n",
       "      <th>type_local_Maison</th>\n",
       "    </tr>\n",
       "  </thead>\n",
       "  <tbody>\n",
       "    <tr>\n",
       "      <th>0</th>\n",
       "      <td>360000.0</td>\n",
       "      <td>1593</td>\n",
       "      <td>0</td>\n",
       "      <td>170.0</td>\n",
       "      <td>7.0</td>\n",
       "      <td>3789.0</td>\n",
       "      <td>False</td>\n",
       "      <td>True</td>\n",
       "    </tr>\n",
       "    <tr>\n",
       "      <th>1</th>\n",
       "      <td>360000.0</td>\n",
       "      <td>1593</td>\n",
       "      <td>0</td>\n",
       "      <td>170.0</td>\n",
       "      <td>7.0</td>\n",
       "      <td>500.0</td>\n",
       "      <td>False</td>\n",
       "      <td>True</td>\n",
       "    </tr>\n",
       "    <tr>\n",
       "      <th>2</th>\n",
       "      <td>360000.0</td>\n",
       "      <td>1593</td>\n",
       "      <td>0</td>\n",
       "      <td>170.0</td>\n",
       "      <td>7.0</td>\n",
       "      <td>1500.0</td>\n",
       "      <td>False</td>\n",
       "      <td>True</td>\n",
       "    </tr>\n",
       "    <tr>\n",
       "      <th>3</th>\n",
       "      <td>190000.0</td>\n",
       "      <td>1436</td>\n",
       "      <td>0</td>\n",
       "      <td>90.0</td>\n",
       "      <td>4.0</td>\n",
       "      <td>903.0</td>\n",
       "      <td>False</td>\n",
       "      <td>True</td>\n",
       "    </tr>\n",
       "    <tr>\n",
       "      <th>4</th>\n",
       "      <td>220000.0</td>\n",
       "      <td>1524</td>\n",
       "      <td>0</td>\n",
       "      <td>99.0</td>\n",
       "      <td>3.0</td>\n",
       "      <td>818.0</td>\n",
       "      <td>False</td>\n",
       "      <td>True</td>\n",
       "    </tr>\n",
       "  </tbody>\n",
       "</table>\n",
       "</div>"
      ],
      "text/plain": [
       "   valeur_fonciere  code_commune  code_departement  surface_reelle_bati  \\\n",
       "0         360000.0          1593                 0                170.0   \n",
       "1         360000.0          1593                 0                170.0   \n",
       "2         360000.0          1593                 0                170.0   \n",
       "3         190000.0          1436                 0                 90.0   \n",
       "4         220000.0          1524                 0                 99.0   \n",
       "\n",
       "   nombre_pieces_principales  surface_terrain  type_local_Appartement  \\\n",
       "0                        7.0           3789.0                   False   \n",
       "1                        7.0            500.0                   False   \n",
       "2                        7.0           1500.0                   False   \n",
       "3                        4.0            903.0                   False   \n",
       "4                        3.0            818.0                   False   \n",
       "\n",
       "   type_local_Maison  \n",
       "0               True  \n",
       "1               True  \n",
       "2               True  \n",
       "3               True  \n",
       "4               True  "
      ]
     },
     "execution_count": 143,
     "metadata": {},
     "output_type": "execute_result"
    }
   ],
   "source": [
    "df.head()"
   ]
  },
  {
   "cell_type": "code",
   "execution_count": 144,
   "metadata": {},
   "outputs": [
    {
     "data": {
      "text/plain": [
       "valeur_fonciere              float64\n",
       "code_commune                   int32\n",
       "code_departement                int8\n",
       "surface_reelle_bati          float64\n",
       "nombre_pieces_principales    float64\n",
       "surface_terrain              float64\n",
       "type_local_Appartement          bool\n",
       "type_local_Maison               bool\n",
       "dtype: object"
      ]
     },
     "execution_count": 144,
     "metadata": {},
     "output_type": "execute_result"
    }
   ],
   "source": [
    "df.dtypes"
   ]
  },
  {
   "cell_type": "code",
   "execution_count": 145,
   "metadata": {},
   "outputs": [],
   "source": [
    "# Diviser les données en variables explicatives (X) et la variable cible (y)\n",
    "X = df.drop('valeur_fonciere', axis=1)\n",
    "y = df['valeur_fonciere']"
   ]
  },
  {
   "cell_type": "code",
   "execution_count": 146,
   "metadata": {},
   "outputs": [],
   "source": [
    "# Diviser les données en ensembles d'entraînement et de test\n",
    "X_train, X_test, y_train, y_test = train_test_split(X, y, test_size=0.2, random_state=42)"
   ]
  },
  {
   "cell_type": "code",
   "execution_count": null,
   "metadata": {},
   "outputs": [],
   "source": [
    "train_losses = []\n",
    "test_losses = []"
   ]
  },
  {
   "cell_type": "code",
   "execution_count": null,
   "metadata": {},
   "outputs": [],
   "source": [
    "# Définir le nombre d'époques\n",
    "epochs = 100"
   ]
  },
  {
   "cell_type": "code",
   "execution_count": null,
   "metadata": {},
   "outputs": [],
   "source": [
    "for epoch in range(epochs):\n",
    "    # Créer et entraîner le modèle de réseau de neurones\n",
    "    model = MLPRegressor(hidden_layer_sizes=(100,), activation='relu', solver='adam', max_iter=42, random_state=42)\n",
    "    # Entraînement du modèle\n",
    "    model.fit(X_train, y_train)\n",
    "    \n",
    "    # Calculer la perte sur l'ensemble d'entraînement et de test\n",
    "    train_loss = mean_squared_error(y_train, model.predict(X_train))\n",
    "    test_loss = mean_squared_error(y_test, model.predict(X_test))\n",
    "    \n",
    "    # Enregistrer les pertes\n",
    "    train_losses.append(train_loss)\n",
    "    test_losses.append(test_loss)"
   ]
  },
  {
   "cell_type": "code",
   "execution_count": null,
   "metadata": {},
   "outputs": [],
   "source": [
    "# Tracer l'évolution de la perte au cours des époques\n",
    "plt.figure(figsize=(10, 5))\n",
    "plt.plot(range(1, epochs + 1), train_losses, label='Train Loss', color='blue')\n",
    "plt.plot(range(1, epochs + 1), test_losses, label='Test Loss', color='orange')\n",
    "plt.title('Évolution de la Loss au cours de l\\'entraînement')\n",
    "plt.xlabel('Nombre d\\'époques')\n",
    "plt.ylabel('Loss')\n",
    "plt.legend()\n",
    "plt.show()"
   ]
  },
  {
   "cell_type": "code",
   "execution_count": 151,
   "metadata": {},
   "outputs": [
    {
     "ename": "ModuleNotFoundError",
     "evalue": "No module named 'keras'",
     "output_type": "error",
     "traceback": [
      "\u001b[1;31m---------------------------------------------------------------------------\u001b[0m",
      "\u001b[1;31mModuleNotFoundError\u001b[0m                       Traceback (most recent call last)",
      "Cell \u001b[1;32mIn[151], line 1\u001b[0m\n\u001b[1;32m----> 1\u001b[0m \u001b[38;5;28;01mfrom\u001b[39;00m \u001b[38;5;21;01mkeras\u001b[39;00m\u001b[38;5;21;01m.\u001b[39;00m\u001b[38;5;21;01mmodels\u001b[39;00m \u001b[38;5;28;01mimport\u001b[39;00m load_model\n",
      "\u001b[1;31mModuleNotFoundError\u001b[0m: No module named 'keras'"
     ]
    }
   ],
   "source": [
    "from keras.models import load_model"
   ]
  },
  {
   "cell_type": "code",
   "execution_count": null,
   "metadata": {},
   "outputs": [],
   "source": [
    "# Enregistrer le modèle\n",
    "model.save('model_V1.h5')"
   ]
  }
 ],
 "metadata": {
  "kernelspec": {
   "display_name": "venv",
   "language": "python",
   "name": "python3"
  },
  "language_info": {
   "codemirror_mode": {
    "name": "ipython",
    "version": 3
   },
   "file_extension": ".py",
   "mimetype": "text/x-python",
   "name": "python",
   "nbconvert_exporter": "python",
   "pygments_lexer": "ipython3",
   "version": "3.9.12"
  }
 },
 "nbformat": 4,
 "nbformat_minor": 2
}
