{
 "cells": [
  {
   "cell_type": "code",
   "execution_count": null,
   "metadata": {},
   "outputs": [],
   "source": [
    "from tqdm import tqdm\n",
    "import subprocess\n",
    "from sqlalchemy import create_engine"
   ]
  },
  {
   "cell_type": "code",
   "execution_count": null,
   "metadata": {},
   "outputs": [],
   "source": [
    "# Informations d'identification PostgreSQL\n",
    "db_user = \"terence\"\n",
    "db_password = \"Canon0-Spinout8-Debatable6-Proofread2\"\n",
    "db_host = \"stockage-donnee-foncieres-gr02.postgres.database.azure.com\"\n",
    "db_port = 5432\n",
    "db_name = \"postgres\""
   ]
  },
  {
   "cell_type": "code",
   "execution_count": null,
   "metadata": {},
   "outputs": [],
   "source": [
    "# Chaîne de connexion\n",
    "conn_str = f\"postgresql://{db_user}:{db_password}@{db_host}:{db_port}/{db_name}\""
   ]
  },
  {
   "cell_type": "code",
   "execution_count": null,
   "metadata": {},
   "outputs": [],
   "source": [
    "# Créer un moteur SQLAlchemy\n",
    "engine = create_engine(conn_str)\n",
    "# Se connecter à la base de données\n",
    "conn = engine.connect()"
   ]
  },
  {
   "cell_type": "code",
   "execution_count": null,
   "metadata": {},
   "outputs": [],
   "source": [
    "import os\n",
    "\n",
    "# Obtenir le chemin absolu du répertoire courant\n",
    "current_dir = os.getcwd()"
   ]
  },
  {
   "cell_type": "code",
   "execution_count": null,
   "metadata": {},
   "outputs": [],
   "source": [
    "import subprocess\n",
    "from tqdm import tqdm"
   ]
  },
  {
   "cell_type": "code",
   "execution_count": null,
   "metadata": {},
   "outputs": [],
   "source": [
    "# Fonction pour exécuter une ligne SQL\n",
    "def execute_sql_line(line):\n",
    "    try:\n",
    "        # Exécuter la ligne SQL en tant que commande psql\n",
    "        subprocess.run([\"psql\", \"-U\", \"postgres\", \"-d\", \"postgres\", \"-c\", line.strip()], check=True, stdout=subprocess.DEVNULL, stderr=subprocess.DEVNULL)\n",
    "    except subprocess.CalledProcessError as e:\n",
    "        # Gérer les erreurs de commande\n",
    "        print(f\"Erreur lors de l'exécution de la commande : {e}\")\n",
    "    except Exception as e:\n",
    "        # Gérer d'autres erreurs\n",
    "        print(f\"Une erreur inattendue s'est produite lors de l'exécution de la commande : {e}\")\n"
   ]
  },
  {
   "cell_type": "code",
   "execution_count": null,
   "metadata": {},
   "outputs": [],
   "source": [
    "# Fonction pour restaurer la base de données à partir du fichier SQL\n",
    "def restore_database(sql_file_path_absolute):\n",
    "    # Restauration de la base de données\n",
    "    with tqdm(desc=\"Restauration de la base de données\", unit=\"line\") as pbar:\n",
    "        try:\n",
    "            # Ouvrir le fichier SQL en lecture\n",
    "            with open(sql_file_path_absolute, \"r\") as f:\n",
    "                # Lire le contenu du fichier ligne par ligne\n",
    "                for line in f:\n",
    "                    # Exécuter la ligne SQL\n",
    "                    execute_sql_line(line)\n",
    "                    # Mettre à jour la barre de progression\n",
    "                    pbar.update(1)\n",
    "        except FileNotFoundError:\n",
    "            print(\"Le fichier SQL spécifié est introuvable.\")\n",
    "        except Exception as e:\n",
    "            print(f\"Une erreur inattendue s'est produite lors de la restauration de la base de données : {e}\")\n",
    "\n"
   ]
  },
  {
   "cell_type": "code",
   "execution_count": null,
   "metadata": {},
   "outputs": [],
   "source": [
    "# Chemin relatif vers le fichier SQL\n",
    "sql_file_path_relative = \"export_database.sql\"\n",
    "# Concaténer le chemin absolu du répertoire courant avec le chemin relatif du fichier SQL\n",
    "sql_file_path_absolute = os.path.join(current_dir, sql_file_path_relative)\n",
    "\n",
    "# Afficher le chemin absolu du fichier SQL\n",
    "print(\"Chemin absolu du fichier SQL :\", sql_file_path_absolute)"
   ]
  },
  {
   "cell_type": "code",
   "execution_count": null,
   "metadata": {},
   "outputs": [],
   "source": [
    "\n",
    "# Utilisation de la fonction pour restaurer la base de données\n",
    "restore_database(sql_file_path_absolute)"
   ]
  },
  {
   "cell_type": "code",
   "execution_count": 3,
   "metadata": {},
   "outputs": [],
   "source": [
    "import re"
   ]
  },
  {
   "cell_type": "code",
   "execution_count": 8,
   "metadata": {},
   "outputs": [],
   "source": [
    "# Chemin d'entrée et de sortie des fichiers\n",
    "input_file = \"./fichier_restauration.sql\"\n",
    "output_file = \"restore_database.sql\"\n",
    "\n",
    "\n",
    "# Ouvrir les fichiers en lecture et en écriture\n",
    "with open(input_file, \"r\") as f_input, open(output_file, \"w\") as f_output:\n",
    "    # Indicateur pour suivre si nous devons traiter les lignes de données\n",
    "    process_data = False\n",
    "    \n",
    "    # Lire chaque ligne du fichier d'entrée\n",
    "    for line in f_input:\n",
    "        # Vérifier si nous devons commencer à traiter les lignes de données\n",
    "        if \"COPY public.valeur_fonciere\" in line:\n",
    "            process_data = True\n",
    "            f_output.write(line)  # Écrire la ligne originale dans le nouveau fichier\n",
    "            continue\n",
    "        \n",
    "        # Vérifier si nous devons arrêter de traiter les lignes de données\n",
    "        if process_data and line.strip() == \"\\\\.\":\n",
    "            process_data = False\n",
    "            f_output.write(line)  # Écrire la ligne originale dans le nouveau fichier\n",
    "            continue\n",
    "        \n",
    "        # Si nous sommes en train de traiter les lignes de données, remplacer les tabulations par des virgules\n",
    "        if process_data:\n",
    "            line = line.replace(\"\\t\", \",\")\n",
    "        \n",
    "        # Écrire les lignes dans le fichier de sortie\n",
    "        f_output.write(line)"
   ]
  }
 ],
 "metadata": {
  "kernelspec": {
   "display_name": "venv",
   "language": "python",
   "name": "python3"
  },
  "language_info": {
   "codemirror_mode": {
    "name": "ipython",
    "version": 3
   },
   "file_extension": ".py",
   "mimetype": "text/x-python",
   "name": "python",
   "nbconvert_exporter": "python",
   "pygments_lexer": "ipython3",
   "version": "3.9.12"
  }
 },
 "nbformat": 4,
 "nbformat_minor": 2
}
