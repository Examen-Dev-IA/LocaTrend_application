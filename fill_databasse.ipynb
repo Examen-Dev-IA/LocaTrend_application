{
 "cells": [
  {
   "cell_type": "code",
   "execution_count": null,
   "metadata": {},
   "outputs": [],
   "source": [
    "import pandas as pd\n",
    "import psycopg2\n",
    "from sqlalchemy import create_engine\n",
    "from sqlalchemy import create_engine, VARCHAR\n",
    "from sqlalchemy import Table, MetaData, Column\n",
    "from tqdm import tqdm"
   ]
  },
  {
   "cell_type": "markdown",
   "metadata": {},
   "source": [
    "### Identifiants"
   ]
  },
  {
   "cell_type": "code",
   "execution_count": null,
   "metadata": {},
   "outputs": [],
   "source": [
    "# Informations d'identification PostgreSQL\n",
    "db_user = \"terence\"\n",
    "db_password = \"Canon0-Spinout8-Debatable6-Proofread2\"\n",
    "db_host = \"stockage-donnee-foncieres-gr02.postgres.database.azure.com\"\n",
    "db_port = 5432\n",
    "db_name = \"postgres\""
   ]
  },
  {
   "cell_type": "code",
   "execution_count": null,
   "metadata": {},
   "outputs": [],
   "source": [
    "# Créez une connexion à la base de données\n",
    "engine = create_engine(f'postgresql://{db_user}:{db_password}@{db_host}:{db_port}/{db_name}')"
   ]
  },
  {
   "cell_type": "code",
   "execution_count": null,
   "metadata": {},
   "outputs": [],
   "source": [
    "# Chargez le fichier CSV dans un DataFrame Pandas\n",
    "df = pd.read_csv('./src/datasets/csv/valeurs_foncieres_affichage.csv', encoding='utf-8', dtype={'code_commune': str, 'code_departement': str})\n"
   ]
  },
  {
   "cell_type": "code",
   "execution_count": null,
   "metadata": {},
   "outputs": [],
   "source": [
    "# Nom de la table dans la base de données\n",
    "table_name = 'valeur_fonciere'"
   ]
  },
  {
   "cell_type": "code",
   "execution_count": null,
   "metadata": {},
   "outputs": [],
   "source": [
    "# Supprimer la colonne inutile \"Unnamed: 0\"\n",
    "df = df.drop(columns=['Unnamed: 0'])"
   ]
  },
  {
   "cell_type": "code",
   "execution_count": null,
   "metadata": {},
   "outputs": [],
   "source": [
    "# Nombre total de lignes dans le DataFrame\n",
    "total_rows = len(df)\n",
    "\n",
    "# Barre de progression tqdm\n",
    "with tqdm(total=total_rows, desc=\"Insertion des données dans la base de données\") as pbar:\n",
    "    # Commencez la transaction\n",
    "    with engine.connect() as connection:\n",
    "        with connection.begin():\n",
    "            # Créez la table en fonction de l'en-tête du fichier CSV\n",
    "            metadata = MetaData()\n",
    "            table = Table(table_name, metadata, *[Column(col, VARCHAR) for col in df.columns])\n",
    "            metadata.create_all(connection)\n",
    "\n",
    "            # Itérez sur les lignes du DataFrame\n",
    "            for index, row in df.iterrows():\n",
    "                # Insérez la ligne dans la table\n",
    "                connection.execute(table.insert().values(**row.to_dict()))\n",
    "\n",
    "                # Incrémente la barre de progression\n",
    "                pbar.update(1)\n",
    "\n",
    "print(\"Les données ont été insérées avec succès.\")"
   ]
  },
  {
   "cell_type": "markdown",
   "metadata": {},
   "source": []
  }
 ],
 "metadata": {
  "kernelspec": {
   "display_name": "base",
   "language": "python",
   "name": "python3"
  },
  "language_info": {
   "codemirror_mode": {
    "name": "ipython",
    "version": 3
   },
   "file_extension": ".py",
   "mimetype": "text/x-python",
   "name": "python",
   "nbconvert_exporter": "python",
   "pygments_lexer": "ipython3",
   "version": "3.9.12"
  }
 },
 "nbformat": 4,
 "nbformat_minor": 2
}
