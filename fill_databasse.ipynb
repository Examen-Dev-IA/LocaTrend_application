{
 "cells": [
  {
   "cell_type": "code",
   "execution_count": 1,
   "metadata": {},
   "outputs": [],
   "source": [
    "import pandas as pd\n",
    "import psycopg2\n",
    "from sqlalchemy import create_engine, text\n",
    "from sqlalchemy import create_engine, VARCHAR\n",
    "from sqlalchemy import Table, MetaData, Column\n",
    "from tqdm import tqdm"
   ]
  },
  {
   "cell_type": "markdown",
   "metadata": {},
   "source": [
    "### Identifiants"
   ]
  },
  {
   "cell_type": "code",
   "execution_count": null,
   "metadata": {},
   "outputs": [],
   "source": [
    "# Informations d'identification PostgreSQL\n",
    "db_user = \"terence\"\n",
    "db_password = \"Canon0-Spinout8-Debatable6-Proofread2\"\n",
    "db_host = \"stockage-donnee-foncieres-gr02.postgres.database.azure.com\"\n",
    "db_port = 5432\n",
    "db_name = \"postgres\""
   ]
  },
  {
   "cell_type": "code",
   "execution_count": null,
   "metadata": {},
   "outputs": [],
   "source": [
    "# Créez une connexion à la base de données\n",
    "engine = create_engine(f'postgresql://{db_user}:{db_password}@{db_host}:{db_port}/{db_name}')"
   ]
  },
  {
   "cell_type": "code",
   "execution_count": 2,
   "metadata": {},
   "outputs": [],
   "source": [
    "# Chargez le fichier CSV dans un DataFrame Pandas\n",
    "df = pd.read_csv('./src/datasets/csv/valeurs_foncieres_affichage.csv', encoding='utf-8', dtype={'code_commune': str, 'code_departement': str})\n"
   ]
  },
  {
   "cell_type": "code",
   "execution_count": 3,
   "metadata": {},
   "outputs": [
    {
     "data": {
      "text/html": [
       "<div>\n",
       "<style scoped>\n",
       "    .dataframe tbody tr th:only-of-type {\n",
       "        vertical-align: middle;\n",
       "    }\n",
       "\n",
       "    .dataframe tbody tr th {\n",
       "        vertical-align: top;\n",
       "    }\n",
       "\n",
       "    .dataframe thead th {\n",
       "        text-align: right;\n",
       "    }\n",
       "</style>\n",
       "<table border=\"1\" class=\"dataframe\">\n",
       "  <thead>\n",
       "    <tr style=\"text-align: right;\">\n",
       "      <th></th>\n",
       "      <th>Unnamed: 0</th>\n",
       "      <th>date_mutation</th>\n",
       "      <th>valeur_fonciere</th>\n",
       "      <th>code_commune</th>\n",
       "      <th>code_departement</th>\n",
       "      <th>type_local</th>\n",
       "      <th>surface_reelle_bati</th>\n",
       "      <th>nombre_pieces_principales</th>\n",
       "      <th>surface_terrain</th>\n",
       "    </tr>\n",
       "  </thead>\n",
       "  <tbody>\n",
       "    <tr>\n",
       "      <th>0</th>\n",
       "      <td>0</td>\n",
       "      <td>2018-07-02</td>\n",
       "      <td>360000.0</td>\n",
       "      <td>1374</td>\n",
       "      <td>1</td>\n",
       "      <td>Maison</td>\n",
       "      <td>170.0</td>\n",
       "      <td>7.0</td>\n",
       "      <td>3789.0</td>\n",
       "    </tr>\n",
       "    <tr>\n",
       "      <th>1</th>\n",
       "      <td>1</td>\n",
       "      <td>2018-07-02</td>\n",
       "      <td>360000.0</td>\n",
       "      <td>1374</td>\n",
       "      <td>1</td>\n",
       "      <td>Maison</td>\n",
       "      <td>170.0</td>\n",
       "      <td>7.0</td>\n",
       "      <td>500.0</td>\n",
       "    </tr>\n",
       "    <tr>\n",
       "      <th>2</th>\n",
       "      <td>2</td>\n",
       "      <td>2018-07-02</td>\n",
       "      <td>360000.0</td>\n",
       "      <td>1374</td>\n",
       "      <td>1</td>\n",
       "      <td>Maison</td>\n",
       "      <td>170.0</td>\n",
       "      <td>7.0</td>\n",
       "      <td>1500.0</td>\n",
       "    </tr>\n",
       "    <tr>\n",
       "      <th>3</th>\n",
       "      <td>3</td>\n",
       "      <td>2018-07-05</td>\n",
       "      <td>190000.0</td>\n",
       "      <td>1304</td>\n",
       "      <td>1</td>\n",
       "      <td>Maison</td>\n",
       "      <td>90.0</td>\n",
       "      <td>4.0</td>\n",
       "      <td>903.0</td>\n",
       "    </tr>\n",
       "    <tr>\n",
       "      <th>4</th>\n",
       "      <td>4</td>\n",
       "      <td>2018-07-04</td>\n",
       "      <td>220000.0</td>\n",
       "      <td>1314</td>\n",
       "      <td>1</td>\n",
       "      <td>Maison</td>\n",
       "      <td>99.0</td>\n",
       "      <td>3.0</td>\n",
       "      <td>818.0</td>\n",
       "    </tr>\n",
       "  </tbody>\n",
       "</table>\n",
       "</div>"
      ],
      "text/plain": [
       "   Unnamed: 0 date_mutation  valeur_fonciere code_commune code_departement  \\\n",
       "0           0    2018-07-02         360000.0         1374                1   \n",
       "1           1    2018-07-02         360000.0         1374                1   \n",
       "2           2    2018-07-02         360000.0         1374                1   \n",
       "3           3    2018-07-05         190000.0         1304                1   \n",
       "4           4    2018-07-04         220000.0         1314                1   \n",
       "\n",
       "  type_local  surface_reelle_bati  nombre_pieces_principales  surface_terrain  \n",
       "0     Maison                170.0                        7.0           3789.0  \n",
       "1     Maison                170.0                        7.0            500.0  \n",
       "2     Maison                170.0                        7.0           1500.0  \n",
       "3     Maison                 90.0                        4.0            903.0  \n",
       "4     Maison                 99.0                        3.0            818.0  "
      ]
     },
     "execution_count": 3,
     "metadata": {},
     "output_type": "execute_result"
    }
   ],
   "source": [
    "df.head()"
   ]
  },
  {
   "cell_type": "code",
   "execution_count": null,
   "metadata": {},
   "outputs": [],
   "source": [
    "# Nom de la table dans la base de données\n",
    "table_name = 'valeur_fonciere'"
   ]
  },
  {
   "cell_type": "code",
   "execution_count": null,
   "metadata": {},
   "outputs": [],
   "source": [
    "# Supprimer la colonne inutile \"Unnamed: 0\"\n",
    "df = df.drop(columns=['Unnamed: 0'])"
   ]
  },
  {
   "cell_type": "code",
   "execution_count": null,
   "metadata": {},
   "outputs": [],
   "source": [
    "# Supprimer la table existante\n",
    "with engine.connect() as connection:\n",
    "    # Supprimer la table si elle existe déjà\n",
    "    drop_table_query = text(\"DROP TABLE IF EXISTS valeur_fonciere\")\n",
    "    connection.execute(drop_table_query)\n",
    "\n",
    "    # Créer la table en fonction de l'en-tête du fichier CSV\n",
    "    metadata = MetaData()\n",
    "    table = Table(table_name, metadata, *[Column(col, VARCHAR) for col in df.columns])\n",
    "    metadata.create_all(connection)\n",
    "\n",
    "    # Nombre total de lignes dans le DataFrame\n",
    "    total_rows = len(df)\n",
    "\n",
    "    # Barre de progression tqdm\n",
    "    with tqdm(total=total_rows, desc=\"Insertion des données dans la base de données\") as pbar:\n",
    "        # Itérer sur les lignes du DataFrame\n",
    "        for index, row in df.iterrows():\n",
    "            # Insérer la ligne dans la table\n",
    "            connection.execute(table.insert().values(**row.to_dict()))\n",
    "\n",
    "            # Mettre à jour la barre de progression\n",
    "            pbar.update(1)\n",
    "\n",
    "print(\"Les données ont été insérées avec succès.\")"
   ]
  }
 ],
 "metadata": {
  "kernelspec": {
   "display_name": "base",
   "language": "python",
   "name": "python3"
  },
  "language_info": {
   "codemirror_mode": {
    "name": "ipython",
    "version": 3
   },
   "file_extension": ".py",
   "mimetype": "text/x-python",
   "name": "python",
   "nbconvert_exporter": "python",
   "pygments_lexer": "ipython3",
   "version": "3.9.12"
  }
 },
 "nbformat": 4,
 "nbformat_minor": 2
}
