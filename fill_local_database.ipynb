{
 "cells": [
  {
   "cell_type": "code",
   "execution_count": 14,
   "metadata": {},
   "outputs": [],
   "source": [
    "import pandas as pd\n",
    "import psycopg2\n",
    "from tqdm import tqdm\n",
    "from sqlalchemy import create_engine, MetaData, Table, Column, String, Float, Integer\n",
    "import pandas as pd"
   ]
  },
  {
   "cell_type": "code",
   "execution_count": 15,
   "metadata": {},
   "outputs": [],
   "source": [
    "# # Paramètres de connexion à la base de données\n",
    "# dbname = 'postgres'\n",
    "# user = 'postgres'\n",
    "# password = '0000'\n",
    "# host = 'localhost'  # ou l'adresse IP de votre serveur PostgreSQL\n",
    "# port = '5432'       # le port par défaut pour PostgreSQL est 543"
   ]
  },
  {
   "cell_type": "code",
   "execution_count": 16,
   "metadata": {},
   "outputs": [],
   "source": [
    "# Informations d'identification PostgreSQL\n",
    "user = \"terence\"\n",
    "password = \"Canon0-Spinout8-Debatable6-Proofread2\"\n",
    "host = \"stockage-donnee-foncieres-gr02.postgres.database.azure.com\"\n",
    "port = 5432\n",
    "dbname = \"postgres\""
   ]
  },
  {
   "cell_type": "code",
   "execution_count": 17,
   "metadata": {},
   "outputs": [],
   "source": [
    "# Chaîne de connexion\n",
    "conn_string = f\"postgresql+psycopg2://{user}:{password}@{host}:{port}/{dbname}\""
   ]
  },
  {
   "cell_type": "code",
   "execution_count": 18,
   "metadata": {},
   "outputs": [],
   "source": [
    "# Définir la chaîne de connexion SQLAlchemy\n",
    "engine = create_engine(conn_string)"
   ]
  },
  {
   "cell_type": "code",
   "execution_count": 19,
   "metadata": {},
   "outputs": [],
   "source": [
    "# Connexion à la base de données\n",
    "conn = engine.connect()\n"
   ]
  },
  {
   "cell_type": "code",
   "execution_count": 20,
   "metadata": {},
   "outputs": [],
   "source": [
    "# Chargez le fichier CSV dans un DataFrame Pandas\n",
    "df = pd.read_csv('./src/datasets/csv/valeurs_foncieres_affichage.csv', encoding='utf-8', dtype={'code_commune': str, 'code_departement': str})"
   ]
  },
  {
   "cell_type": "code",
   "execution_count": 21,
   "metadata": {},
   "outputs": [],
   "source": [
    "# Supprimer la colonne inutile \"Unnamed: 0\"\n",
    "df = df.drop(columns=['Unnamed: 0'])"
   ]
  },
  {
   "cell_type": "code",
   "execution_count": 22,
   "metadata": {},
   "outputs": [],
   "source": [
    "# Nom de la table dans la base de données\n",
    "table_name = 'valeur_fonciere'"
   ]
  },
  {
   "cell_type": "code",
   "execution_count": 23,
   "metadata": {},
   "outputs": [
    {
     "name": "stdout",
     "output_type": "stream",
     "text": [
      "La table a été créée avec succès.\n"
     ]
    }
   ],
   "source": [
    "# Créer la table en fonction de l'en-tête du fichier CSV\n",
    "metadata = MetaData()\n",
    "columns = [\n",
    "    Column('date_mutation', String),\n",
    "    Column('valeur_fonciere', Float),\n",
    "    Column('code_commune', String),\n",
    "    Column('code_departement', String),\n",
    "    Column('type_local', String),\n",
    "    Column('surface_reelle_bati', Float),\n",
    "    Column('nombre_pieces_principales', Integer),\n",
    "    Column('surface_terrain', Float)\n",
    "]\n",
    "table = Table(table_name, metadata, *columns)\n",
    "metadata.create_all(engine)\n",
    "print(\"La table a été créée avec succès.\")"
   ]
  },
  {
   "cell_type": "code",
   "execution_count": 25,
   "metadata": {},
   "outputs": [
    {
     "name": "stderr",
     "output_type": "stream",
     "text": [
      "Insertion des données dans la base de données:   0%|          | 0/4046379 [00:00<?, ?it/s]\n"
     ]
    },
    {
     "ename": "ArgumentError",
     "evalue": "List argument must consist only of tuples or dictionaries",
     "output_type": "error",
     "traceback": [
      "\u001b[1;31m---------------------------------------------------------------------------\u001b[0m",
      "\u001b[1;31mArgumentError\u001b[0m                             Traceback (most recent call last)",
      "Cell \u001b[1;32mIn[25], line 8\u001b[0m\n\u001b[0;32m      5\u001b[0m \u001b[38;5;28;01mwith\u001b[39;00m tqdm(total\u001b[38;5;241m=\u001b[39mtotal_rows, desc\u001b[38;5;241m=\u001b[39m\u001b[38;5;124m\"\u001b[39m\u001b[38;5;124mInsertion des données dans la base de données\u001b[39m\u001b[38;5;124m\"\u001b[39m) \u001b[38;5;28;01mas\u001b[39;00m pbar:\n\u001b[0;32m      6\u001b[0m     \u001b[38;5;28;01mfor\u001b[39;00m index, row \u001b[38;5;129;01min\u001b[39;00m df\u001b[38;5;241m.\u001b[39miterrows():\n\u001b[0;32m      7\u001b[0m         \u001b[38;5;66;03m# Exécution de la requête d'insertion avec des paramètres\u001b[39;00m\n\u001b[1;32m----> 8\u001b[0m         \u001b[43mconn\u001b[49m\u001b[38;5;241;43m.\u001b[39;49m\u001b[43mexecute\u001b[49m\u001b[43m(\u001b[49m\u001b[38;5;124;43m\"\"\"\u001b[39;49m\n\u001b[0;32m      9\u001b[0m \u001b[38;5;124;43m            INSERT INTO valeur_fonciere (date_mutation, valeur_fonciere, code_commune, code_departement, type_local, surface_reelle_bati, nombre_pieces_principales, surface_terrain)\u001b[39;49m\n\u001b[0;32m     10\u001b[0m \u001b[38;5;124;43m            VALUES (\u001b[39;49m\u001b[38;5;132;43;01m%s\u001b[39;49;00m\u001b[38;5;124;43m, \u001b[39;49m\u001b[38;5;132;43;01m%s\u001b[39;49;00m\u001b[38;5;124;43m, \u001b[39;49m\u001b[38;5;132;43;01m%s\u001b[39;49;00m\u001b[38;5;124;43m, \u001b[39;49m\u001b[38;5;132;43;01m%s\u001b[39;49;00m\u001b[38;5;124;43m, \u001b[39;49m\u001b[38;5;132;43;01m%s\u001b[39;49;00m\u001b[38;5;124;43m, \u001b[39;49m\u001b[38;5;132;43;01m%s\u001b[39;49;00m\u001b[38;5;124;43m, \u001b[39;49m\u001b[38;5;132;43;01m%s\u001b[39;49;00m\u001b[38;5;124;43m, \u001b[39;49m\u001b[38;5;132;43;01m%s\u001b[39;49;00m\u001b[38;5;124;43m)\u001b[39;49m\n\u001b[0;32m     11\u001b[0m \u001b[38;5;124;43m        \u001b[39;49m\u001b[38;5;124;43m\"\"\"\u001b[39;49m\u001b[43m,\u001b[49m\u001b[43m \u001b[49m\u001b[43m(\u001b[49m\u001b[43mrow\u001b[49m\u001b[43m[\u001b[49m\u001b[38;5;124;43m'\u001b[39;49m\u001b[38;5;124;43mdate_mutation\u001b[39;49m\u001b[38;5;124;43m'\u001b[39;49m\u001b[43m]\u001b[49m\u001b[43m,\u001b[49m\u001b[43m \u001b[49m\u001b[43mrow\u001b[49m\u001b[43m[\u001b[49m\u001b[38;5;124;43m'\u001b[39;49m\u001b[38;5;124;43mvaleur_fonciere\u001b[39;49m\u001b[38;5;124;43m'\u001b[39;49m\u001b[43m]\u001b[49m\u001b[43m,\u001b[49m\u001b[43m \u001b[49m\u001b[43mrow\u001b[49m\u001b[43m[\u001b[49m\u001b[38;5;124;43m'\u001b[39;49m\u001b[38;5;124;43mcode_commune\u001b[39;49m\u001b[38;5;124;43m'\u001b[39;49m\u001b[43m]\u001b[49m\u001b[43m,\u001b[49m\u001b[43m \u001b[49m\u001b[43mrow\u001b[49m\u001b[43m[\u001b[49m\u001b[38;5;124;43m'\u001b[39;49m\u001b[38;5;124;43mcode_departement\u001b[39;49m\u001b[38;5;124;43m'\u001b[39;49m\u001b[43m]\u001b[49m\u001b[43m,\u001b[49m\u001b[43m \u001b[49m\u001b[43mrow\u001b[49m\u001b[43m[\u001b[49m\u001b[38;5;124;43m'\u001b[39;49m\u001b[38;5;124;43mtype_local\u001b[39;49m\u001b[38;5;124;43m'\u001b[39;49m\u001b[43m]\u001b[49m\u001b[43m,\u001b[49m\u001b[43m \u001b[49m\u001b[43mrow\u001b[49m\u001b[43m[\u001b[49m\u001b[38;5;124;43m'\u001b[39;49m\u001b[38;5;124;43msurface_reelle_bati\u001b[39;49m\u001b[38;5;124;43m'\u001b[39;49m\u001b[43m]\u001b[49m\u001b[43m,\u001b[49m\u001b[43m \u001b[49m\u001b[43mrow\u001b[49m\u001b[43m[\u001b[49m\u001b[38;5;124;43m'\u001b[39;49m\u001b[38;5;124;43mnombre_pieces_principales\u001b[39;49m\u001b[38;5;124;43m'\u001b[39;49m\u001b[43m]\u001b[49m\u001b[43m,\u001b[49m\u001b[43m \u001b[49m\u001b[43mrow\u001b[49m\u001b[43m[\u001b[49m\u001b[38;5;124;43m'\u001b[39;49m\u001b[38;5;124;43msurface_terrain\u001b[39;49m\u001b[38;5;124;43m'\u001b[39;49m\u001b[43m]\u001b[49m\u001b[43m)\u001b[49m\u001b[43m)\u001b[49m\n\u001b[0;32m     13\u001b[0m         \u001b[38;5;66;03m# Mettre à jour la barre de progression\u001b[39;00m\n\u001b[0;32m     14\u001b[0m         pbar\u001b[38;5;241m.\u001b[39mupdate(\u001b[38;5;241m1\u001b[39m)\n",
      "File \u001b[1;32mc:\\Users\\teren\\Documents\\GitHub\\LocaTrend_application\\venv\\lib\\site-packages\\sqlalchemy\\engine\\base.py:1415\u001b[0m, in \u001b[0;36mConnection.execute\u001b[1;34m(self, statement, parameters, execution_options)\u001b[0m\n\u001b[0;32m   1377\u001b[0m \u001b[38;5;28;01mdef\u001b[39;00m \u001b[38;5;21mexecute\u001b[39m(\n\u001b[0;32m   1378\u001b[0m     \u001b[38;5;28mself\u001b[39m,\n\u001b[0;32m   1379\u001b[0m     statement: Executable,\n\u001b[1;32m   (...)\u001b[0m\n\u001b[0;32m   1382\u001b[0m     execution_options: Optional[CoreExecuteOptionsParameter] \u001b[38;5;241m=\u001b[39m \u001b[38;5;28;01mNone\u001b[39;00m,\n\u001b[0;32m   1383\u001b[0m ) \u001b[38;5;241m-\u001b[39m\u001b[38;5;241m>\u001b[39m CursorResult[Any]:\n\u001b[0;32m   1384\u001b[0m \u001b[38;5;250m    \u001b[39m\u001b[38;5;124mr\u001b[39m\u001b[38;5;124;03m\"\"\"Executes a SQL statement construct and returns a\u001b[39;00m\n\u001b[0;32m   1385\u001b[0m \u001b[38;5;124;03m    :class:`_engine.CursorResult`.\u001b[39;00m\n\u001b[0;32m   1386\u001b[0m \n\u001b[1;32m   (...)\u001b[0m\n\u001b[0;32m   1413\u001b[0m \n\u001b[0;32m   1414\u001b[0m \u001b[38;5;124;03m    \"\"\"\u001b[39;00m\n\u001b[1;32m-> 1415\u001b[0m     distilled_parameters \u001b[38;5;241m=\u001b[39m \u001b[43m_distill_params_20\u001b[49m\u001b[43m(\u001b[49m\u001b[43mparameters\u001b[49m\u001b[43m)\u001b[49m\n\u001b[0;32m   1416\u001b[0m     \u001b[38;5;28;01mtry\u001b[39;00m:\n\u001b[0;32m   1417\u001b[0m         meth \u001b[38;5;241m=\u001b[39m statement\u001b[38;5;241m.\u001b[39m_execute_on_connection\n",
      "File \u001b[1;32mlib\\\\sqlalchemy\\\\cyextension\\\\util.pyx:32\u001b[0m, in \u001b[0;36msqlalchemy.cyextension.util._distill_params_20\u001b[1;34m()\u001b[0m\n",
      "File \u001b[1;32mlib\\\\sqlalchemy\\\\cyextension\\\\util.pyx:23\u001b[0m, in \u001b[0;36msqlalchemy.cyextension.util._check_item\u001b[1;34m()\u001b[0m\n",
      "\u001b[1;31mArgumentError\u001b[0m: List argument must consist only of tuples or dictionaries"
     ]
    }
   ],
   "source": [
    "# Nombre total de lignes dans le DataFrame\n",
    "total_rows = len(df)\n",
    "\n",
    "# Itérer sur les lignes du DataFrame et insérer les données dans la base de données\n",
    "with tqdm(total=total_rows, desc=\"Insertion des données dans la base de données\") as pbar:\n",
    "    for index, row in df.iterrows():\n",
    "        # Exemple d'une requête d'insertion de données\n",
    "        insert_query = f\"\"\"\n",
    "        INSERT INTO {table_name} (date_mutation, valeur_fonciere, code_commune, code_departement, type_local, surface_reelle_bati, nombre_pieces_principales, surface_terrain)\n",
    "        VALUES ('{row['date_mutation']}', {row['valeur_fonciere']}, '{row['code_commune']}', '{row['code_departement']}', '{row['type_local']}', {row['surface_reelle_bati']}, {row['nombre_pieces_principales']}, {row['surface_terrain']});\n",
    "        \"\"\"\n",
    "        conn.execute(insert_query)\n",
    "        \n",
    "        # Mettre à jour la barre de progression\n",
    "        pbar.update(1)\n",
    "\n",
    "# Commit des modifications\n",
    "conn.commit()\n",
    "\n",
    "# Fermeture du curseur et de la connexion à la base de données\n",
    "conn.close()"
   ]
  }
 ],
 "metadata": {
  "kernelspec": {
   "display_name": "venv",
   "language": "python",
   "name": "python3"
  },
  "language_info": {
   "codemirror_mode": {
    "name": "ipython",
    "version": 3
   },
   "file_extension": ".py",
   "mimetype": "text/x-python",
   "name": "python",
   "nbconvert_exporter": "python",
   "pygments_lexer": "ipython3",
   "version": "3.9.12"
  }
 },
 "nbformat": 4,
 "nbformat_minor": 2
}
